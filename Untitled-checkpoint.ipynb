{
 "cells": [
  {
   "cell_type": "code",
   "execution_count": 5,
   "id": "84e37ea1",
   "metadata": {},
   "outputs": [
    {
     "name": "stdout",
     "output_type": "stream",
     "text": [
      "Выиграно ставок: 21537 (48.86554431183918%).  Проиграно ставок: 22537 (51.13445568816082%). \n"
     ]
    }
   ],
   "source": [
    "import random\n",
    "import plotly\n",
    "import plotly.graph_objs as go\n",
    "startmoney = 1000000\n",
    "c1 = 0.001\n",
    "win = 0\n",
    "loose = 0\n",
    "games = 0\n",
    "balance1 = []\n",
    "games1 = []\n",
    "money = startmoney\n",
    "while money > 0:\n",
    "    bet = startmoney * c1\n",
    "    if bet > money:\n",
    "        bet = money\n",
    "    money -= bet\n",
    "    balance1.append(money)\n",
    "    games1.append(len(games1)+1)\n",
    "    ball = random.randint(1,37)\n",
    "    if ball in range (1,19):\n",
    "        money += bet * 2\n",
    "        win += 1\n",
    "    else:\n",
    "        loose +=1 \n",
    "games = win + loose\n",
    "print(\"Выиграно ставок: \" + str(win) + \" (\" + str(win/games * 100) + \"%). \" + \" Проиграно ставок: \" + str(loose) + \" (\" + str(loose/games * 100) + \"%). \")\n"
   ]
  },
  {
   "cell_type": "code",
   "execution_count": null,
   "id": "a80d3ef8",
   "metadata": {},
   "outputs": [],
   "source": []
  },
  {
   "cell_type": "code",
   "execution_count": null,
   "id": "91118d55",
   "metadata": {},
   "outputs": [],
   "source": []
  }
 ],
 "metadata": {
  "kernelspec": {
   "display_name": "Python 3 (ipykernel)",
   "language": "python",
   "name": "python3"
  },
  "language_info": {
   "codemirror_mode": {
    "name": "ipython",
    "version": 3
   },
   "file_extension": ".py",
   "mimetype": "text/x-python",
   "name": "python",
   "nbconvert_exporter": "python",
   "pygments_lexer": "ipython3",
   "version": "3.10.4"
  }
 },
 "nbformat": 4,
 "nbformat_minor": 5
}
